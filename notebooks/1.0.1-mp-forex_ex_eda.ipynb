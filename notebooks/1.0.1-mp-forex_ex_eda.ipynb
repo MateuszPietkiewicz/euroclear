{
 "cells": [
  {
   "cell_type": "code",
   "execution_count": 1,
   "id": "39656e77-c725-4468-bedd-143a8adfa912",
   "metadata": {},
   "outputs": [
    {
     "data": {
      "text/html": [
       "\n",
       "            <div>\n",
       "                <ins><a href=\"https://ydata.ai/register\">Upgrade to ydata-sdk</a></ins>\n",
       "                <p>\n",
       "                    Improve your data and profiling with ydata-sdk, featuring data quality scoring, redundancy detection, outlier identification, text validation, and synthetic data generation.\n",
       "                </p>\n",
       "            </div>\n",
       "            "
      ],
      "text/plain": [
       "<IPython.core.display.HTML object>"
      ]
     },
     "metadata": {},
     "output_type": "display_data"
    }
   ],
   "source": [
    "import pandas as pd\n",
    "# from euroclear.config import RAW_DATA_DIR\n",
    "from ydata_profiling import ProfileReport\n",
    "import pycountry"
   ]
  },
  {
   "cell_type": "code",
   "execution_count": 7,
   "id": "2dd8a4cb-5e28-4692-948a-8610f174e480",
   "metadata": {},
   "outputs": [],
   "source": [
    "df0= pd.read_parquet('../data/raw/forex_ex/part-00000-27bd45d4-da0e-47e7-b151-a47caedbc2e6-c000.snappy.parquet')\n",
    "df1= pd.read_parquet('../data/raw/forex_ex/part-00001-27bd45d4-da0e-47e7-b151-a47caedbc2e6-c000.snappy.parquet')\n",
    "df2= pd.read_parquet('../data/raw/forex_ex/part-00002-27bd45d4-da0e-47e7-b151-a47caedbc2e6-c000.snappy.parquet')\n",
    "df3= pd.read_parquet('../data/raw/forex_ex/part-00003-27bd45d4-da0e-47e7-b151-a47caedbc2e6-c000.snappy.parquet')\n",
    "df4= pd.read_parquet('../data/raw/forex_ex/part-00004-27bd45d4-da0e-47e7-b151-a47caedbc2e6-c000.snappy.parquet')\n",
    "\n",
    "df_forex = pd.concat([df0, df1, df2, df3, df4]).reset_index(drop=True).drop_duplicates()"
   ]
  },
  {
   "cell_type": "code",
   "execution_count": 12,
   "id": "51f5b707-9b56-4afd-a97d-558bcaf1e747",
   "metadata": {},
   "outputs": [],
   "source": [
    "df = pd.concat([df0, df1, df2, df3, df4]).reset_index(drop=True).drop_duplicates()"
   ]
  },
  {
   "cell_type": "code",
   "execution_count": 19,
   "id": "a61a0409-9d22-486c-acc3-b75236fefb50",
   "metadata": {},
   "outputs": [
    {
     "name": "stdout",
     "output_type": "stream",
     "text": [
      "<class 'pandas.core.frame.DataFrame'>\n",
      "RangeIndex: 141 entries, 0 to 140\n",
      "Data columns (total 2 columns):\n",
      " #   Column          Non-Null Count  Dtype  \n",
      "---  ------          --------------  -----  \n",
      " 0   currency_code   141 non-null    object \n",
      " 1   equivalent_eur  141 non-null    float64\n",
      "dtypes: float64(1), object(1)\n",
      "memory usage: 2.3+ KB\n"
     ]
    }
   ],
   "source": [
    "df.info()"
   ]
  },
  {
   "cell_type": "code",
   "execution_count": 17,
   "id": "f89a5ef0-29df-4137-b4ef-a3b890843c4a",
   "metadata": {},
   "outputs": [],
   "source": [
    "#To do łaczenia parqueta\n",
    "\n",
    "#df = pd.read_parquet(Path(RAW_DATA_DIR) / \"forex_ex\")"
   ]
  },
  {
   "cell_type": "code",
   "execution_count": 29,
   "id": "c64c7a4a-9e25-4940-89e0-c4c4d1f47724",
   "metadata": {},
   "outputs": [
    {
     "data": {
      "text/html": [
       "<div>\n",
       "<style scoped>\n",
       "    .dataframe tbody tr th:only-of-type {\n",
       "        vertical-align: middle;\n",
       "    }\n",
       "\n",
       "    .dataframe tbody tr th {\n",
       "        vertical-align: top;\n",
       "    }\n",
       "\n",
       "    .dataframe thead th {\n",
       "        text-align: right;\n",
       "    }\n",
       "</style>\n",
       "<table border=\"1\" class=\"dataframe\">\n",
       "  <thead>\n",
       "    <tr style=\"text-align: right;\">\n",
       "      <th></th>\n",
       "      <th>currency_code</th>\n",
       "      <th>equivalent_eur</th>\n",
       "    </tr>\n",
       "  </thead>\n",
       "  <tbody>\n",
       "    <tr>\n",
       "      <th>0</th>\n",
       "      <td>PYG</td>\n",
       "      <td>1.792145</td>\n",
       "    </tr>\n",
       "    <tr>\n",
       "      <th>1</th>\n",
       "      <td>SYP</td>\n",
       "      <td>0.211584</td>\n",
       "    </tr>\n",
       "    <tr>\n",
       "      <th>2</th>\n",
       "      <td>CZK</td>\n",
       "      <td>4.140218</td>\n",
       "    </tr>\n",
       "    <tr>\n",
       "      <th>3</th>\n",
       "      <td>CAD</td>\n",
       "      <td>3.885958</td>\n",
       "    </tr>\n",
       "    <tr>\n",
       "      <th>4</th>\n",
       "      <td>EUR</td>\n",
       "      <td>1.000000</td>\n",
       "    </tr>\n",
       "    <tr>\n",
       "      <th>5</th>\n",
       "      <td>HTG</td>\n",
       "      <td>0.951050</td>\n",
       "    </tr>\n",
       "    <tr>\n",
       "      <th>6</th>\n",
       "      <td>TWD</td>\n",
       "      <td>1.805162</td>\n",
       "    </tr>\n",
       "    <tr>\n",
       "      <th>7</th>\n",
       "      <td>MNT</td>\n",
       "      <td>1.282878</td>\n",
       "    </tr>\n",
       "    <tr>\n",
       "      <th>8</th>\n",
       "      <td>GEL</td>\n",
       "      <td>7.153374</td>\n",
       "    </tr>\n",
       "    <tr>\n",
       "      <th>9</th>\n",
       "      <td>STD</td>\n",
       "      <td>9.979734</td>\n",
       "    </tr>\n",
       "  </tbody>\n",
       "</table>\n",
       "</div>"
      ],
      "text/plain": [
       "  currency_code  equivalent_eur\n",
       "0           PYG        1.792145\n",
       "1           SYP        0.211584\n",
       "2           CZK        4.140218\n",
       "3           CAD        3.885958\n",
       "4           EUR        1.000000\n",
       "5           HTG        0.951050\n",
       "6           TWD        1.805162\n",
       "7           MNT        1.282878\n",
       "8           GEL        7.153374\n",
       "9           STD        9.979734"
      ]
     },
     "execution_count": 29,
     "metadata": {},
     "output_type": "execute_result"
    }
   ],
   "source": [
    "df.head(10)"
   ]
  },
  {
   "cell_type": "code",
   "execution_count": null,
   "id": "5392e1f0-7b08-4aa6-9087-5400990517a2",
   "metadata": {},
   "outputs": [],
   "source": []
  }
 ],
 "metadata": {
  "kernelspec": {
   "display_name": "Python 3 (ipykernel)",
   "language": "python",
   "name": "python3"
  },
  "language_info": {
   "codemirror_mode": {
    "name": "ipython",
    "version": 3
   },
   "file_extension": ".py",
   "mimetype": "text/x-python",
   "name": "python",
   "nbconvert_exporter": "python",
   "pygments_lexer": "ipython3",
   "version": "3.13.0"
  }
 },
 "nbformat": 4,
 "nbformat_minor": 5
}
