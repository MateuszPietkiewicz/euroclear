{
 "cells": [
  {
   "cell_type": "code",
   "execution_count": 56,
   "id": "initial_id",
   "metadata": {
    "ExecuteTime": {
     "end_time": "2025-10-25T10:51:00.417227Z",
     "start_time": "2025-10-25T10:51:00.410543Z"
    },
    "collapsed": true,
    "jupyter": {
     "outputs_hidden": true
    }
   },
   "outputs": [],
   "source": [
    "import pandas as pd\n",
    "import numpy as np\n",
    "from euroclear.config import RAW_DATA_DIR, INTERIM_DATA_DIR"
   ]
  },
  {
   "cell_type": "code",
   "execution_count": 9,
   "id": "9427affaeaa315be",
   "metadata": {
    "ExecuteTime": {
     "end_time": "2025-10-25T08:23:23.449976Z",
     "start_time": "2025-10-25T08:23:23.357829Z"
    }
   },
   "outputs": [],
   "source": [
    "df_transactions = pd.read_parquet(f'{RAW_DATA_DIR}/transactions_small/')"
   ]
  },
  {
   "cell_type": "code",
   "execution_count": 4,
   "id": "e87a48b382db7bdc",
   "metadata": {
    "ExecuteTime": {
     "end_time": "2025-10-25T08:21:22.089663Z",
     "start_time": "2025-10-25T08:21:22.076204Z"
    }
   },
   "outputs": [],
   "source": [
    "df_world = pd.read_parquet(f'{RAW_DATA_DIR}/world_data/')"
   ]
  },
  {
   "cell_type": "code",
   "execution_count": 5,
   "id": "e7e22292a8dc4bce",
   "metadata": {
    "ExecuteTime": {
     "end_time": "2025-10-25T08:21:44.384430Z",
     "start_time": "2025-10-25T08:21:44.363336Z"
    }
   },
   "outputs": [],
   "source": [
    "df_securities = pd.read_parquet(f'{RAW_DATA_DIR}/securities/')"
   ]
  },
  {
   "cell_type": "code",
   "execution_count": 6,
   "id": "d829e08d33162383",
   "metadata": {
    "ExecuteTime": {
     "end_time": "2025-10-25T08:22:20.381671Z",
     "start_time": "2025-10-25T08:22:20.241395Z"
    }
   },
   "outputs": [],
   "source": [
    "df_daily = pd.read_parquet(f'{RAW_DATA_DIR}/daily_quotation')"
   ]
  },
  {
   "cell_type": "code",
   "execution_count": 7,
   "id": "bbee5043e94aea48",
   "metadata": {
    "ExecuteTime": {
     "end_time": "2025-10-25T08:22:41.104572Z",
     "start_time": "2025-10-25T08:22:41.092604Z"
    }
   },
   "outputs": [],
   "source": [
    "df_forex = pd.read_parquet(f'{RAW_DATA_DIR}/forex_ex/')"
   ]
  },
  {
   "cell_type": "code",
   "execution_count": 8,
   "id": "c6a8ebad6391a17b",
   "metadata": {
    "ExecuteTime": {
     "end_time": "2025-10-25T08:23:00.608543Z",
     "start_time": "2025-10-25T08:23:00.591268Z"
    }
   },
   "outputs": [],
   "source": [
    "df_accounts = pd.read_parquet(f'{RAW_DATA_DIR}/accounts/')"
   ]
  },
  {
   "cell_type": "code",
   "execution_count": 11,
   "id": "edef3f8920a614d",
   "metadata": {
    "ExecuteTime": {
     "end_time": "2025-10-25T08:30:21.104788Z",
     "start_time": "2025-10-25T08:30:21.079371Z"
    }
   },
   "outputs": [
    {
     "data": {
      "text/plain": [
       "Index(['receive_security', 'deliver_security', 'transaction_timestamp', 'isin',\n",
       "       'unit_delivered', 'market_value', 'currency_code'],\n",
       "      dtype='object')"
      ]
     },
     "execution_count": 11,
     "metadata": {},
     "output_type": "execute_result"
    }
   ],
   "source": [
    "df_transactions.columns"
   ]
  },
  {
   "cell_type": "code",
   "execution_count": 26,
   "id": "c1ceaadeed3ad140",
   "metadata": {
    "ExecuteTime": {
     "end_time": "2025-10-25T09:28:05.969151Z",
     "start_time": "2025-10-25T09:28:05.962297Z"
    }
   },
   "outputs": [],
   "source": [
    "def safe_div(a: pd.Series, b: pd.Series) -> pd.Series:\n",
    "    return np.divide(a, b, out=np.full_like(a, np.nan, dtype=np.float64), where=(b!=0) & (~pd.isna(b)))"
   ]
  },
  {
   "cell_type": "code",
   "execution_count": 13,
   "id": "6ac215619c422f5d",
   "metadata": {
    "ExecuteTime": {
     "end_time": "2025-10-25T08:39:19.535684Z",
     "start_time": "2025-10-25T08:39:19.530615Z"
    }
   },
   "outputs": [],
   "source": [
    "def normalize_date(s: pd.Series) -> pd.Series:\n",
    "    return pd.to_datetime(s, errors='coerce').dt.normalize()"
   ]
  },
  {
   "cell_type": "code",
   "execution_count": 14,
   "id": "3cfcf165da1ee777",
   "metadata": {
    "ExecuteTime": {
     "end_time": "2025-10-25T08:44:43.300480Z",
     "start_time": "2025-10-25T08:44:43.135661Z"
    }
   },
   "outputs": [],
   "source": [
    "tx = (\n",
    "    df_transactions.copy()\n",
    "    .rename(columns={'currency_code': 'tx_currency_code'})\n",
    "    .assign(\n",
    "        transaction_date=normalize_date(df_transactions['transaction_timestamp']),\n",
    "    )\n",
    ")"
   ]
  },
  {
   "cell_type": "code",
   "execution_count": 17,
   "id": "936ce1f4aa7f6419",
   "metadata": {
    "ExecuteTime": {
     "end_time": "2025-10-25T08:50:03.079438Z",
     "start_time": "2025-10-25T08:50:03.069237Z"
    }
   },
   "outputs": [
    {
     "data": {
      "text/plain": [
       "Index(['isin', 'currency_code', 'instrument_type', 'issuer',\n",
       "       'issuer_country_code'],\n",
       "      dtype='object')"
      ]
     },
     "execution_count": 17,
     "metadata": {},
     "output_type": "execute_result"
    }
   ],
   "source": [
    "df_securities.columns"
   ]
  },
  {
   "cell_type": "code",
   "execution_count": 18,
   "id": "abb2c0d6f73d7ebf",
   "metadata": {
    "ExecuteTime": {
     "end_time": "2025-10-25T08:55:27.250824Z",
     "start_time": "2025-10-25T08:55:27.243781Z"
    }
   },
   "outputs": [],
   "source": [
    "df_sec = (\n",
    "    df_securities.copy()\n",
    "    .rename(columns={'currency_code': 'security_currency_code'})\n",
    "    .drop_duplicates(subset=['isin'])\n",
    ")"
   ]
  },
  {
   "cell_type": "code",
   "execution_count": 19,
   "id": "1cefa81c1510d8ce",
   "metadata": {
    "ExecuteTime": {
     "end_time": "2025-10-25T09:00:14.497506Z",
     "start_time": "2025-10-25T09:00:14.189376Z"
    }
   },
   "outputs": [],
   "source": [
    "tx = tx.merge(df_sec, on='isin', how='left', validate='m:1')"
   ]
  },
  {
   "cell_type": "code",
   "execution_count": null,
   "id": "ab8e4f51a05a5f7a",
   "metadata": {
    "ExecuteTime": {
     "end_time": "2025-10-25T09:01:13.637310Z",
     "start_time": "2025-10-25T09:01:13.634574Z"
    }
   },
   "outputs": [],
   "source": []
  },
  {
   "cell_type": "code",
   "execution_count": 21,
   "id": "973997cde4e0e121",
   "metadata": {
    "ExecuteTime": {
     "end_time": "2025-10-25T09:01:57.118825Z",
     "start_time": "2025-10-25T09:01:57.111704Z"
    }
   },
   "outputs": [
    {
     "data": {
      "text/plain": [
       "Index(['currency_code', 'equivalent_eur'], dtype='object')"
      ]
     },
     "execution_count": 21,
     "metadata": {},
     "output_type": "execute_result"
    }
   ],
   "source": [
    "df_forex.columns"
   ]
  },
  {
   "cell_type": "code",
   "execution_count": 22,
   "id": "7dc72bd1dc1f5afd",
   "metadata": {
    "ExecuteTime": {
     "end_time": "2025-10-25T09:05:08.367183Z",
     "start_time": "2025-10-25T09:05:08.361940Z"
    }
   },
   "outputs": [],
   "source": [
    "df_fx = (\n",
    "    df_forex.copy()\n",
    "    .rename(columns={'equivalent_eur': 'tx_equivalent_eur'})\n",
    "    .drop_duplicates(subset=['currency_code'])\n",
    ")"
   ]
  },
  {
   "cell_type": "code",
   "execution_count": 23,
   "id": "4ebebf75fe9167ad",
   "metadata": {
    "ExecuteTime": {
     "end_time": "2025-10-25T09:10:26.297725Z",
     "start_time": "2025-10-25T09:10:25.751301Z"
    }
   },
   "outputs": [],
   "source": [
    "tx = (\n",
    "    tx.merge(df_fx, left_on='tx_currency_code', right_on='currency_code', how='left', validate='m:1')\n",
    "    .drop(columns=['currency_code'])\n",
    ")"
   ]
  },
  {
   "cell_type": "code",
   "execution_count": 24,
   "id": "ae42d6e0ea77322f",
   "metadata": {
    "ExecuteTime": {
     "end_time": "2025-10-25T09:10:53.715568Z",
     "start_time": "2025-10-25T09:10:53.689994Z"
    }
   },
   "outputs": [
    {
     "data": {
      "text/plain": [
       "Index(['receive_security', 'deliver_security', 'transaction_timestamp', 'isin',\n",
       "       'unit_delivered', 'market_value', 'tx_currency_code',\n",
       "       'transaction_date', 'security_currency_code', 'instrument_type',\n",
       "       'issuer', 'issuer_country_code', 'tx_equivalent_eur'],\n",
       "      dtype='object')"
      ]
     },
     "execution_count": 24,
     "metadata": {},
     "output_type": "execute_result"
    }
   ],
   "source": [
    "tx.columns"
   ]
  },
  {
   "cell_type": "code",
   "execution_count": 27,
   "id": "3d2bd0de1757dd5d",
   "metadata": {
    "ExecuteTime": {
     "end_time": "2025-10-25T09:29:22.711453Z",
     "start_time": "2025-10-25T09:29:22.692816Z"
    }
   },
   "outputs": [],
   "source": [
    "tx['market_value_eur'] = safe_div(tx['market_value'], tx['tx_equivalent_eur'])"
   ]
  },
  {
   "cell_type": "code",
   "execution_count": 31,
   "id": "7c55ae51192453dc",
   "metadata": {
    "ExecuteTime": {
     "end_time": "2025-10-25T09:49:44.332132Z",
     "start_time": "2025-10-25T09:49:43.737382Z"
    }
   },
   "outputs": [],
   "source": [
    "df_dq = df_daily.copy()\n",
    "df_dq['calendar_date'] = normalize_date(df_dq['calendar_date'])\n",
    "df_dq = df_dq.drop_duplicates(subset=['isin', 'calendar_date'])"
   ]
  },
  {
   "cell_type": "code",
   "execution_count": 34,
   "id": "18dacedb044a9fae",
   "metadata": {
    "ExecuteTime": {
     "end_time": "2025-10-25T09:55:52.805166Z",
     "start_time": "2025-10-25T09:55:51.841095Z"
    }
   },
   "outputs": [],
   "source": [
    "tx = (\n",
    "    tx.merge(\n",
    "        df_dq.rename(columns={'calendar_date': 'transaction_date'}),\n",
    "        on=['isin', 'transaction_date'],\n",
    "        how='left',\n",
    "        validate='m:1'\n",
    "    )\n",
    ")"
   ]
  },
  {
   "cell_type": "code",
   "execution_count": 37,
   "id": "77c30345ab2d92fa",
   "metadata": {
    "ExecuteTime": {
     "end_time": "2025-10-25T09:59:38.397799Z",
     "start_time": "2025-10-25T09:59:38.390589Z"
    }
   },
   "outputs": [
    {
     "data": {
      "text/plain": [
       "Index(['country', 'country_code', 'currency_name', 'currency_code',\n",
       "       'country_risk'],\n",
       "      dtype='object')"
      ]
     },
     "execution_count": 37,
     "metadata": {},
     "output_type": "execute_result"
    }
   ],
   "source": [
    "df_world.columns"
   ]
  },
  {
   "cell_type": "code",
   "execution_count": 40,
   "id": "eb7ec6f9fce531f7",
   "metadata": {
    "ExecuteTime": {
     "end_time": "2025-10-25T10:10:38.911663Z",
     "start_time": "2025-10-25T10:10:38.894015Z"
    }
   },
   "outputs": [],
   "source": [
    "df_country_issuer = df_world.rename(\n",
    "    columns={'country': 'issuer_country', 'country_risk': 'issuer_country_risk', 'country_code': 'issuer_country_code'}\n",
    ")[['issuer_country_code', 'issuer_country', 'issuer_country_risk']].drop_duplicates(subset='issuer_country_code')"
   ]
  },
  {
   "cell_type": "code",
   "execution_count": 41,
   "id": "fef01f0aff480456",
   "metadata": {
    "ExecuteTime": {
     "end_time": "2025-10-25T10:11:49.626921Z",
     "start_time": "2025-10-25T10:11:48.922615Z"
    }
   },
   "outputs": [],
   "source": [
    "tx = (\n",
    "    tx.merge(\n",
    "        df_country_issuer,\n",
    "        on='issuer_country_code',\n",
    "        how='left',\n",
    "        validate='m:1'\n",
    "    )\n",
    ")"
   ]
  },
  {
   "cell_type": "code",
   "execution_count": 42,
   "id": "eb5589253bc5bc92",
   "metadata": {
    "ExecuteTime": {
     "end_time": "2025-10-25T10:12:34.254699Z",
     "start_time": "2025-10-25T10:12:34.247003Z"
    }
   },
   "outputs": [
    {
     "data": {
      "text/plain": [
       "Index(['account_id', 'company_name', 'address', 'country'], dtype='object')"
      ]
     },
     "execution_count": 42,
     "metadata": {},
     "output_type": "execute_result"
    }
   ],
   "source": [
    "df_accounts.columns"
   ]
  },
  {
   "cell_type": "code",
   "execution_count": 43,
   "id": "b23f7dbc48988991",
   "metadata": {
    "ExecuteTime": {
     "end_time": "2025-10-25T10:14:20.463810Z",
     "start_time": "2025-10-25T10:14:20.457404Z"
    }
   },
   "outputs": [],
   "source": [
    "df_acc = df_accounts.rename(columns={'country': 'account_country'}).copy()"
   ]
  },
  {
   "cell_type": "code",
   "execution_count": 44,
   "id": "ec5f5e0acecd8805",
   "metadata": {
    "ExecuteTime": {
     "end_time": "2025-10-25T10:23:43.398515Z",
     "start_time": "2025-10-25T10:23:43.383335Z"
    }
   },
   "outputs": [],
   "source": [
    "df_receive = df_acc.rename(\n",
    "    columns={\n",
    "            \"account_id\": \"receive_account_id\",\n",
    "            \"company_name\": \"receive_company\",\n",
    "            \"address\": \"receive_address\",\n",
    "            \"account_country\": \"receive_country\",\n",
    "        }\n",
    ")[['receive_account_id', 'receive_company', 'receive_address', 'receive_country']].drop_duplicates(subset='receive_account_id')"
   ]
  },
  {
   "cell_type": "code",
   "execution_count": 45,
   "id": "2036e930a64c8dd0",
   "metadata": {
    "ExecuteTime": {
     "end_time": "2025-10-25T10:27:33.750215Z",
     "start_time": "2025-10-25T10:27:32.946482Z"
    }
   },
   "outputs": [],
   "source": [
    "tx = tx.merge(\n",
    "    df_receive,\n",
    "    left_on='receive_security',\n",
    "    right_on='receive_account_id',\n",
    "    how='left',\n",
    "    validate='m:1'\n",
    ")"
   ]
  },
  {
   "cell_type": "code",
   "execution_count": 47,
   "id": "c614448500607566",
   "metadata": {
    "ExecuteTime": {
     "end_time": "2025-10-25T10:30:07.876293Z",
     "start_time": "2025-10-25T10:30:07.384492Z"
    }
   },
   "outputs": [],
   "source": [
    "df_deliver = df_acc.rename(\n",
    "    columns={\n",
    "        \"account_id\": \"deliver_account_id\",\n",
    "        \"company_name\": \"deliver_company\",\n",
    "        \"address\": \"deliver_address\",\n",
    "        \"account_country\": \"deliver_country\",\n",
    "    }\n",
    ")[\n",
    "    [\"deliver_account_id\", \"deliver_company\", \"deliver_address\", \"deliver_country\"]\n",
    "].drop_duplicates(subset=[\"deliver_account_id\"])\n",
    "tx = tx.merge(\n",
    "    df_deliver,\n",
    "    left_on=\"deliver_security\",\n",
    "    right_on=\"deliver_account_id\",\n",
    "    how=\"left\",\n",
    "    validate=\"m:1\",\n",
    ")"
   ]
  },
  {
   "cell_type": "code",
   "execution_count": 48,
   "id": "cf9cca6987b69a91",
   "metadata": {
    "ExecuteTime": {
     "end_time": "2025-10-25T10:33:24.037068Z",
     "start_time": "2025-10-25T10:33:24.030133Z"
    }
   },
   "outputs": [
    {
     "data": {
      "text/plain": [
       "Index(['country', 'country_code', 'currency_name', 'currency_code',\n",
       "       'country_risk'],\n",
       "      dtype='object')"
      ]
     },
     "execution_count": 48,
     "metadata": {},
     "output_type": "execute_result"
    }
   ],
   "source": [
    "df_world.columns"
   ]
  },
  {
   "cell_type": "code",
   "execution_count": 50,
   "id": "aed82eb5d1910c2f",
   "metadata": {
    "ExecuteTime": {
     "end_time": "2025-10-25T10:39:55.205187Z",
     "start_time": "2025-10-25T10:39:53.872575Z"
    }
   },
   "outputs": [],
   "source": [
    "tx = tx.merge(\n",
    "    df_world.rename(\n",
    "        columns={\n",
    "            'country_code': 'receive_country_code',\n",
    "            'country_risk': 'receive_country_risk',\n",
    "            'country': 'receive_country'\n",
    "        }\n",
    "    )[['receive_country', 'receive_country_code', 'receive_country_risk']].drop_duplicates(subset='receive_country'),\n",
    "    on='receive_country',\n",
    "    how='left',\n",
    "    validate='m:1'\n",
    ")"
   ]
  },
  {
   "cell_type": "code",
   "execution_count": 51,
   "id": "a1e9a88831eb181f",
   "metadata": {
    "ExecuteTime": {
     "end_time": "2025-10-25T10:41:11.079825Z",
     "start_time": "2025-10-25T10:41:09.684841Z"
    }
   },
   "outputs": [],
   "source": [
    "tx = tx.merge(\n",
    "    df_world.rename(\n",
    "        columns={\n",
    "            'country_code': 'deliver_country_code',\n",
    "            'country_risk': 'deliver_country_risk',\n",
    "            'country': 'deliver_country'\n",
    "        }\n",
    "    )[['deliver_country', 'deliver_country_code', 'deliver_country_risk']].drop_duplicates(subset='deliver_country'),\n",
    "    on='deliver_country',\n",
    "    how='left',\n",
    "    validate='m:1'\n",
    ")"
   ]
  },
  {
   "cell_type": "code",
   "execution_count": 52,
   "id": "57d599297a3ed8cc",
   "metadata": {
    "ExecuteTime": {
     "end_time": "2025-10-25T10:41:48.498411Z",
     "start_time": "2025-10-25T10:41:48.492380Z"
    }
   },
   "outputs": [],
   "source": [
    "preferred = [\n",
    "        \"transaction_timestamp\", \"transaction_date\", \"isin\",\n",
    "        \"unit_delivered\", \"market_value\", \"market_value_eur\",\n",
    "        \"tx_currency_code\", \"tx_equivalent_eur\", \"real_quotation\",\n",
    "        \"security_currency_code\", \"instrument_type\", \"issuer\",\n",
    "        \"issuer_country_code\", \"issuer_country\", \"issuer_country_risk\",\n",
    "        \"receive_security\", \"receive_account_id\", \"receive_company\",\n",
    "        \"receive_address\", \"receive_country\", \"receive_country_code\", \"receive_country_risk\",\n",
    "        \"deliver_security\", \"deliver_account_id\", \"deliver_company\",\n",
    "        \"deliver_address\", \"deliver_country\", \"deliver_country_code\", \"deliver_country_risk\",\n",
    "    ]"
   ]
  },
  {
   "cell_type": "code",
   "execution_count": 53,
   "id": "9722ad8da0e91a83",
   "metadata": {
    "ExecuteTime": {
     "end_time": "2025-10-25T10:44:16.534347Z",
     "start_time": "2025-10-25T10:44:16.523933Z"
    }
   },
   "outputs": [
    {
     "data": {
      "text/plain": [
       "29"
      ]
     },
     "execution_count": 53,
     "metadata": {},
     "output_type": "execute_result"
    }
   ],
   "source": [
    "len(preferred)"
   ]
  },
  {
   "cell_type": "code",
   "execution_count": 54,
   "id": "cba293696418d748",
   "metadata": {
    "ExecuteTime": {
     "end_time": "2025-10-25T10:44:23.696575Z",
     "start_time": "2025-10-25T10:44:23.689646Z"
    }
   },
   "outputs": [
    {
     "data": {
      "text/plain": [
       "(415517, 29)"
      ]
     },
     "execution_count": 54,
     "metadata": {},
     "output_type": "execute_result"
    }
   ],
   "source": [
    "tx.shape"
   ]
  },
  {
   "cell_type": "code",
   "execution_count": 57,
   "id": "636ee160ccd36f51",
   "metadata": {
    "ExecuteTime": {
     "end_time": "2025-10-25T10:51:37.877423Z",
     "start_time": "2025-10-25T10:51:32.813856Z"
    }
   },
   "outputs": [],
   "source": [
    "cols = [c for c in preferred if c in tx.columns] + [c for c in tx.columns if c not in preferred]\n",
    "tx.loc[:, cols].to_parquet(INTERIM_DATA_DIR / 'tx.parquet')"
   ]
  },
  {
   "cell_type": "code",
   "execution_count": 58,
   "id": "743b3a688fa4d474",
   "metadata": {
    "ExecuteTime": {
     "end_time": "2025-10-25T10:58:47.619630Z",
     "start_time": "2025-10-25T10:58:47.603506Z"
    }
   },
   "outputs": [],
   "source": [
    "tx['unite_price_tx'] = safe_div(tx['market_value'], tx['unit_delivered'])"
   ]
  },
  {
   "cell_type": "code",
   "execution_count": 59,
   "id": "23f7f188390d32f7",
   "metadata": {
    "ExecuteTime": {
     "end_time": "2025-10-25T11:01:12.488488Z",
     "start_time": "2025-10-25T11:01:12.472685Z"
    }
   },
   "outputs": [],
   "source": [
    "tx['unit_price_eur'] = safe_div(tx['market_value_eur'], tx['unit_delivered'])"
   ]
  },
  {
   "cell_type": "code",
   "execution_count": 60,
   "id": "26bf484470a62a0c",
   "metadata": {
    "ExecuteTime": {
     "end_time": "2025-10-25T11:04:47.013891Z",
     "start_time": "2025-10-25T11:04:46.986021Z"
    }
   },
   "outputs": [],
   "source": [
    "tx['weekday'] = tx['transaction_date'].dt.dayofweek\n",
    "tx['is_weekend'] = tx['weekday'] >= 5"
   ]
  },
  {
   "cell_type": "code",
   "execution_count": null,
   "id": "9b1ea8836c242939",
   "metadata": {},
   "outputs": [],
   "source": []
  }
 ],
 "metadata": {
  "kernelspec": {
   "display_name": "Python 3 (ipykernel)",
   "language": "python",
   "name": "python3"
  },
  "language_info": {
   "codemirror_mode": {
    "name": "ipython",
    "version": 3
   },
   "file_extension": ".py",
   "mimetype": "text/x-python",
   "name": "python",
   "nbconvert_exporter": "python",
   "pygments_lexer": "ipython3",
   "version": "3.13.0"
  }
 },
 "nbformat": 4,
 "nbformat_minor": 5
}
